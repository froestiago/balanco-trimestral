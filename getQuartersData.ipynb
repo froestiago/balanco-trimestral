{
 "cells": [
  {
   "cell_type": "code",
   "execution_count": 63,
   "metadata": {},
   "outputs": [],
   "source": [
    "#Atualmente estou usando a bibloteca YahooQueery para acessar dados das acoes\n",
    "#Uma limitacao dessa biblioteca, e do yahoo finance para nao assinantes, e que so podemos adquirir alguns dados de 4 quarters passados, earnings por exemplo\n",
    "#neste programa pego estes dados, e outros, de mais quarters no site statusinvest.com.br\n",
    "#Este programa foi baseado em artigo que demostra como o YahooQuerry funciona\n",
    "#artigo: https://towardsdatascience.com/the-alternative-to-web-scraping-8d530ae705ca\n",
    "#Tiago Comassetto Froes\n",
    "\n",
    "from bs4 import BeautifulSoup\n",
    "import pandas as pd\n",
    "import math\n",
    "import requests\n",
    "\n",
    "import matplotlib.pyplot as plt\n",
    "%matplotlib inline"
   ]
  },
  {
   "cell_type": "code",
   "execution_count": 65,
   "metadata": {},
   "outputs": [],
   "source": [
    "#especifique o ticker\n",
    "ticker = 'BBDC4'"
   ]
  },
  {
   "cell_type": "code",
   "execution_count": 66,
   "metadata": {},
   "outputs": [],
   "source": [
    "#get tickers page html\n",
    "source = requests.get('https://statusinvest.com.br/acoes/' + ticker.lower()).text\n",
    "soup = BeautifulSoup(source, 'lxml')\n",
    "\n",
    "#get nome para o link do request de revenue\n",
    "coName = soup.find('div', class_='card chart-and-list rounded pt-3 pb-3 mb-5 show-empty-callback')\n",
    "coName = coName['data-company']\n",
    "\n",
    "#monta o link para o request\n",
    "link = \"https://statusinvest.com.br/acao/getrevenue?companyName=\" + coName + \"&type=0&trimestral=true\"\n",
    "\n",
    "#request\n",
    "r = requests.get(link)\n",
    "data = r.json()"
   ]
  },
  {
   "cell_type": "code",
   "execution_count": 69,
   "metadata": {},
   "outputs": [
    {
     "output_type": "execute_result",
     "data": {
      "text/plain": "                despesas  lucroLiquido  margemBruta  margemEbit  margemEbitda  \\\n2020-06-01 -1.959020e+10  3.506055e+09         0.00        0.00          0.00   \n2020-03-01 -4.347637e+10  3.382086e+09      -170.04      -70.74          0.00   \n2019-12-01 -1.175467e+10  4.883123e+09        51.39      -17.19          3.61   \n2019-09-01 -2.222808e+10  5.836971e+09         4.51       13.08         17.61   \n2019-06-01 -1.294736e+10  6.042079e+09        47.61       27.81         31.78   \n2019-03-01 -1.860121e+10  5.820442e+09        30.63       21.02         24.86   \n2018-12-01  3.009397e+09  2.744254e+09       106.41       20.23         23.92   \n2018-09-01 -1.926904e+10  5.009677e+09        21.68       16.99         20.23   \n2018-06-01 -2.332140e+10  4.527787e+09       -34.64        2.08          8.99   \n2018-03-01 -1.566363e+10  4.466721e+09        33.92       22.82         27.56   \n2017-12-01 -2.977496e+09  6.448446e+09        93.24       29.10         33.10   \n2017-09-01 -1.877858e+10  2.883987e+09        36.97       12.41         16.04   \n2017-06-01 -2.611199e+10  3.911483e+09        10.79        7.23         10.94   \n2017-03-01 -2.772135e+10  4.070687e+09        20.15       14.76         17.89   \n2016-12-01 -2.816186e+10  6.500894e+09        55.71       20.70          0.00   \n2016-09-01 -2.748500e+10  3.236523e+09        13.70        6.51          8.94   \n2016-06-01 -1.739372e+10  4.133898e+09        48.86       23.75         25.34   \n2016-03-01 -1.799681e+10  4.121411e+09        46.22       25.68         27.19   \n2015-12-01  2.817685e+10  5.400929e+09       185.00       37.91          0.00   \n2015-09-01 -4.690784e+10  4.119622e+09       -75.96      -33.68          0.00   \n\n            margemLiquida  receitaLiquida  \n2020-06-01           0.00    1.827845e+10  \n2020-03-01          21.01    1.610014e+10  \n2019-12-01          20.19    2.418330e+10  \n2019-09-01          25.07    2.327891e+10  \n2019-06-01          24.45    2.471163e+10  \n2019-03-01          21.71    2.681595e+10  \n2018-12-01           5.85    4.691772e+10  \n2018-09-01          20.36    2.460287e+10  \n2018-06-01          26.14    1.732143e+10  \n2018-03-01          18.84    2.370493e+10  \n2017-12-01          14.65    4.401362e+10  \n2017-09-01           9.68    2.979268e+10  \n2017-06-01          13.36    2.927030e+10  \n2017-03-01          11.73    3.471763e+10  \n2016-12-01          10.22    6.358640e+10  \n2016-09-01          10.16    3.184985e+10  \n2016-06-01          12.15    3.401480e+10  \n2016-03-01          12.32    3.346146e+10  \n2015-12-01          16.29    3.314957e+10  \n2015-09-01          15.45    2.665795e+10  ",
      "text/html": "<div>\n<style scoped>\n    .dataframe tbody tr th:only-of-type {\n        vertical-align: middle;\n    }\n\n    .dataframe tbody tr th {\n        vertical-align: top;\n    }\n\n    .dataframe thead th {\n        text-align: right;\n    }\n</style>\n<table border=\"1\" class=\"dataframe\">\n  <thead>\n    <tr style=\"text-align: right;\">\n      <th></th>\n      <th>despesas</th>\n      <th>lucroLiquido</th>\n      <th>margemBruta</th>\n      <th>margemEbit</th>\n      <th>margemEbitda</th>\n      <th>margemLiquida</th>\n      <th>receitaLiquida</th>\n    </tr>\n  </thead>\n  <tbody>\n    <tr>\n      <th>2020-06-01</th>\n      <td>-1.959020e+10</td>\n      <td>3.506055e+09</td>\n      <td>0.00</td>\n      <td>0.00</td>\n      <td>0.00</td>\n      <td>0.00</td>\n      <td>1.827845e+10</td>\n    </tr>\n    <tr>\n      <th>2020-03-01</th>\n      <td>-4.347637e+10</td>\n      <td>3.382086e+09</td>\n      <td>-170.04</td>\n      <td>-70.74</td>\n      <td>0.00</td>\n      <td>21.01</td>\n      <td>1.610014e+10</td>\n    </tr>\n    <tr>\n      <th>2019-12-01</th>\n      <td>-1.175467e+10</td>\n      <td>4.883123e+09</td>\n      <td>51.39</td>\n      <td>-17.19</td>\n      <td>3.61</td>\n      <td>20.19</td>\n      <td>2.418330e+10</td>\n    </tr>\n    <tr>\n      <th>2019-09-01</th>\n      <td>-2.222808e+10</td>\n      <td>5.836971e+09</td>\n      <td>4.51</td>\n      <td>13.08</td>\n      <td>17.61</td>\n      <td>25.07</td>\n      <td>2.327891e+10</td>\n    </tr>\n    <tr>\n      <th>2019-06-01</th>\n      <td>-1.294736e+10</td>\n      <td>6.042079e+09</td>\n      <td>47.61</td>\n      <td>27.81</td>\n      <td>31.78</td>\n      <td>24.45</td>\n      <td>2.471163e+10</td>\n    </tr>\n    <tr>\n      <th>2019-03-01</th>\n      <td>-1.860121e+10</td>\n      <td>5.820442e+09</td>\n      <td>30.63</td>\n      <td>21.02</td>\n      <td>24.86</td>\n      <td>21.71</td>\n      <td>2.681595e+10</td>\n    </tr>\n    <tr>\n      <th>2018-12-01</th>\n      <td>3.009397e+09</td>\n      <td>2.744254e+09</td>\n      <td>106.41</td>\n      <td>20.23</td>\n      <td>23.92</td>\n      <td>5.85</td>\n      <td>4.691772e+10</td>\n    </tr>\n    <tr>\n      <th>2018-09-01</th>\n      <td>-1.926904e+10</td>\n      <td>5.009677e+09</td>\n      <td>21.68</td>\n      <td>16.99</td>\n      <td>20.23</td>\n      <td>20.36</td>\n      <td>2.460287e+10</td>\n    </tr>\n    <tr>\n      <th>2018-06-01</th>\n      <td>-2.332140e+10</td>\n      <td>4.527787e+09</td>\n      <td>-34.64</td>\n      <td>2.08</td>\n      <td>8.99</td>\n      <td>26.14</td>\n      <td>1.732143e+10</td>\n    </tr>\n    <tr>\n      <th>2018-03-01</th>\n      <td>-1.566363e+10</td>\n      <td>4.466721e+09</td>\n      <td>33.92</td>\n      <td>22.82</td>\n      <td>27.56</td>\n      <td>18.84</td>\n      <td>2.370493e+10</td>\n    </tr>\n    <tr>\n      <th>2017-12-01</th>\n      <td>-2.977496e+09</td>\n      <td>6.448446e+09</td>\n      <td>93.24</td>\n      <td>29.10</td>\n      <td>33.10</td>\n      <td>14.65</td>\n      <td>4.401362e+10</td>\n    </tr>\n    <tr>\n      <th>2017-09-01</th>\n      <td>-1.877858e+10</td>\n      <td>2.883987e+09</td>\n      <td>36.97</td>\n      <td>12.41</td>\n      <td>16.04</td>\n      <td>9.68</td>\n      <td>2.979268e+10</td>\n    </tr>\n    <tr>\n      <th>2017-06-01</th>\n      <td>-2.611199e+10</td>\n      <td>3.911483e+09</td>\n      <td>10.79</td>\n      <td>7.23</td>\n      <td>10.94</td>\n      <td>13.36</td>\n      <td>2.927030e+10</td>\n    </tr>\n    <tr>\n      <th>2017-03-01</th>\n      <td>-2.772135e+10</td>\n      <td>4.070687e+09</td>\n      <td>20.15</td>\n      <td>14.76</td>\n      <td>17.89</td>\n      <td>11.73</td>\n      <td>3.471763e+10</td>\n    </tr>\n    <tr>\n      <th>2016-12-01</th>\n      <td>-2.816186e+10</td>\n      <td>6.500894e+09</td>\n      <td>55.71</td>\n      <td>20.70</td>\n      <td>0.00</td>\n      <td>10.22</td>\n      <td>6.358640e+10</td>\n    </tr>\n    <tr>\n      <th>2016-09-01</th>\n      <td>-2.748500e+10</td>\n      <td>3.236523e+09</td>\n      <td>13.70</td>\n      <td>6.51</td>\n      <td>8.94</td>\n      <td>10.16</td>\n      <td>3.184985e+10</td>\n    </tr>\n    <tr>\n      <th>2016-06-01</th>\n      <td>-1.739372e+10</td>\n      <td>4.133898e+09</td>\n      <td>48.86</td>\n      <td>23.75</td>\n      <td>25.34</td>\n      <td>12.15</td>\n      <td>3.401480e+10</td>\n    </tr>\n    <tr>\n      <th>2016-03-01</th>\n      <td>-1.799681e+10</td>\n      <td>4.121411e+09</td>\n      <td>46.22</td>\n      <td>25.68</td>\n      <td>27.19</td>\n      <td>12.32</td>\n      <td>3.346146e+10</td>\n    </tr>\n    <tr>\n      <th>2015-12-01</th>\n      <td>2.817685e+10</td>\n      <td>5.400929e+09</td>\n      <td>185.00</td>\n      <td>37.91</td>\n      <td>0.00</td>\n      <td>16.29</td>\n      <td>3.314957e+10</td>\n    </tr>\n    <tr>\n      <th>2015-09-01</th>\n      <td>-4.690784e+10</td>\n      <td>4.119622e+09</td>\n      <td>-75.96</td>\n      <td>-33.68</td>\n      <td>0.00</td>\n      <td>15.45</td>\n      <td>2.665795e+10</td>\n    </tr>\n  </tbody>\n</table>\n</div>"
     },
     "metadata": {},
     "execution_count": 69
    }
   ],
   "source": [
    "data"
   ]
  }
 ],
 "metadata": {
  "kernelspec": {
   "display_name": "Python 3",
   "language": "python",
   "name": "python3"
  },
  "language_info": {
   "codemirror_mode": {
    "name": "ipython",
    "version": 3
   },
   "file_extension": ".py",
   "mimetype": "text/x-python",
   "name": "python",
   "nbconvert_exporter": "python",
   "pygments_lexer": "ipython3",
   "version": "3.7.6-final"
  }
 },
 "nbformat": 4,
 "nbformat_minor": 2
}